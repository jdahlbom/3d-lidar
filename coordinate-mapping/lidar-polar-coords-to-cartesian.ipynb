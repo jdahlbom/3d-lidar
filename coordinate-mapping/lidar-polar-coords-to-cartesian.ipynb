{
 "cells": [
  {
   "cell_type": "code",
   "execution_count": null,
   "metadata": {},
   "outputs": [],
   "source": [
    "\"\"\"\n",
    "Conversion from polar coordinates and lidar servo structure\n",
    "to cartesian coordinates is done with translation/rotation matrix multiplication.\n",
    "\n",
    "These are the structure conversions, \n",
    "using x as \"forward\", y as \"side\" and z as \"upwards\" axles\n",
    "and starting with lidar distance d, pan angle \\alpha and tilt angle \\beta:\n",
    "- Rotation arm attach point is the origin [ 0 0 0 1 ]\n",
    "- The pan servo and attachment arm gives us rotation alpha around Z axle \n",
    "  [ cos(\\alpha) -sin(\\alpha) 0 0 \n",
    "    sin(\\alpha) cos(\\alpha)  0 0\n",
    "    0           0            1 0\n",
    "    0           0            0 1]\n",
    "- Tilt servo has the rotation matrix:\n",
    "  [ cos(\\beta) 0    -sin(\\beta) 0\n",
    "    0          1    0           0 \n",
    "    sin(\\beta) 0    cos(\\beta)  0\n",
    "    0          0    0           1]\n",
    "- Lidar distance d : [ d 0 0 1 ]\n",
    "\"\"\"\n",
    "\n",
    "import numpy as np\n",
    "\n",
    "def convert(range, pan, tilt):\n",
    "    panTilt = np.deg2rad([pan tilt])\n",
    "    [sinPan sinTilt] = np.sin(panTilt)\n",
    "    [cosPan cosTilt] = np.cos(panTilt)\n",
    "    PAN = np.array([[ cosPan -sinPan 0 0 ][sinPan cosPan 0 0][0 0 1 0][0 0 0 1]])\n",
    "    TILT = np.array([[ cosTilt 0 -sinTilt 0][0 1 0 0][sinTilt 0 cosTilt 0][0 0 0 1]])\n",
    "    LIDAR = np.array([[ 1 0 0 range ][ 0 1 0 0 ][ 0 0 1 0 ][ 0 0 0 1 ])\n"
   ]
  }
 ],
 "metadata": {
  "kernelspec": {
   "display_name": "Python 3",
   "language": "python",
   "name": "python3"
  },
  "language_info": {
   "codemirror_mode": {
    "name": "ipython",
    "version": 3
   },
   "file_extension": ".py",
   "mimetype": "text/x-python",
   "name": "python",
   "nbconvert_exporter": "python",
   "pygments_lexer": "ipython3",
   "version": "3.8.10"
  }
 },
 "nbformat": 4,
 "nbformat_minor": 4
}
